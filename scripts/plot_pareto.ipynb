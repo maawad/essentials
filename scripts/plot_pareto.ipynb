{
 "cells": [
  {
   "cell_type": "code",
   "execution_count": 1,
   "metadata": {},
   "outputs": [],
   "source": [
    "import json\n",
    "import altair as alt\n",
    "import pandas as pd\n",
    "import numpy as np\n",
    "\n",
    "from os import listdir\n",
    "from os.path import isfile, isdir, join, splitext"
   ]
  },
  {
   "cell_type": "code",
   "execution_count": 2,
   "metadata": {},
   "outputs": [],
   "source": [
    "input_directory = \"../pareto\"\n",
    "output_drectory = \"./\""
   ]
  },
  {
   "cell_type": "code",
   "execution_count": 3,
   "metadata": {},
   "outputs": [],
   "source": [
    "graphs = [f for f in listdir(input_directory) if isfile(join(input_directory, f))]"
   ]
  },
  {
   "cell_type": "code",
   "execution_count": 4,
   "metadata": {},
   "outputs": [],
   "source": [
    "reorder_algorithms = [\"hub\", \"rand\", \"gorder\", \"RCM\", \"write_reorder2\", \"deg\"]\n",
    "# reorder_algorithms = [\"hub\", \"gorder\", \"RCM\", \"write_reorder2\", \"deg\"]"
   ]
  },
  {
   "cell_type": "code",
   "execution_count": 5,
   "metadata": {},
   "outputs": [],
   "source": [
    "pretty_reorder_algo = {'hub': 'hub', 'deg': 'deg', 'RCM': 'RCM',\n",
    "                        'rand': 'rand', 'write_reorder2': 'BOBA', 'gorder': 'Gorder'}"
   ]
  },
  {
   "cell_type": "code",
   "execution_count": 6,
   "metadata": {},
   "outputs": [],
   "source": [
    "results = pd.DataFrame(columns=['Dataset', 'Reorder algorithm', 'graph_algorithm', 'Graph algorithm runtime', 'Reorder time'])"
   ]
  },
  {
   "cell_type": "code",
   "execution_count": 7,
   "metadata": {},
   "outputs": [],
   "source": [
    "graph_names_ = ['coAuthorsCiteseer', 'coAuthorsDBLP', 'delaunay_n22', 'delaunay_n23', 'delaunay_n24'\n",
    "                , 'great-britain_osm', 'hollywood-2009', 'rgg_n_2_22_s0', 'rgg_n_2_23_s0', 'rgg_n_2_24_s0'\n",
    "                , 'roadNet-CA', 'road_usa', 'soc-LiveJournal1', 'ljournal-2008', 'arabic-2005']\n",
    "ignore_graphs_ = ['delaunay_n22', 'hollywood-2009']\n",
    "\n",
    "def get_graph_name(graph):\n",
    "        for g in graph_names_:\n",
    "                if g in graph or graph in g:\n",
    "                        return g\n",
    "\n",
    "def is_ignored_graph_name(graph):\n",
    "        for g in ignore_graphs_:\n",
    "                if g in graph or graph in g:\n",
    "                        return True\n",
    "        return False\n"
   ]
  },
  {
   "cell_type": "code",
   "execution_count": 8,
   "metadata": {},
   "outputs": [],
   "source": [
    "def get_graph_algorithm_name(graph):\n",
    "        temp = ['tc', 'sssp', 'spmv', 'pr']\n",
    "        for t in temp:\n",
    "                if t in graph or graph in t:\n",
    "                        return t"
   ]
  },
  {
   "cell_type": "code",
   "execution_count": 9,
   "metadata": {},
   "outputs": [],
   "source": [
    "def get_reorder_algorithms(graph):\n",
    "    for reorder_algo in reorder_algorithms:\n",
    "        if graph.lower() in reorder_algo.lower() or reorder_algo.lower() in graph.lower():\n",
    "            return reorder_algo\n",
    "    print(graph)"
   ]
  },
  {
   "cell_type": "code",
   "execution_count": 10,
   "metadata": {},
   "outputs": [],
   "source": [
    "def get_reoder_time(input_file, reorder_algo):\n",
    "    file = open(input_file)\n",
    "    loaded_json = json.load(file)\n",
    "    # print(loaded_json)\n",
    "    reorder_times = {}\n",
    "    for graph in graph_names_:\n",
    "        if is_ignored_graph_name(graph):\n",
    "            continue\n",
    "        else:\n",
    "            reorder_times[graph] = {}\n",
    "    for row in loaded_json:\n",
    "        graph_name = get_graph_name(row['graph_name'])\n",
    "        reoder_algo = pretty_reorder_algo[get_reorder_algorithms(row['graph_name'])]\n",
    "        # results[graph_name][]\n",
    "        reorder_times[graph_name][reoder_algo] = float(row['Reorder_Time'])\n",
    "    return reorder_times"
   ]
  },
  {
   "cell_type": "code",
   "execution_count": 11,
   "metadata": {},
   "outputs": [],
   "source": [
    "reorder_times = get_reoder_time(input_directory + '/reorder-time/reorder.json', reorder_algorithms)\n",
    "# get_reoder_time(input_directory + '/reorder-time/test.json', reorder_algorithms)\n"
   ]
  },
  {
   "cell_type": "code",
   "execution_count": 12,
   "metadata": {},
   "outputs": [],
   "source": [
    "for graph in graphs:\n",
    "    file = open(input_directory + '/' + graph)\n",
    "    try: \n",
    "        loaded_json = json.load(file)\n",
    "        algo_time = float(loaded_json['run-time'])\n",
    "        for reorder_algo in reorder_algorithms:\n",
    "            if reorder_algo in graph:\n",
    "                graph_name = get_graph_name(graph)\n",
    "                if(is_ignored_graph_name(graph_name)):\n",
    "                    continue\n",
    "                reorder_algo_name = pretty_reorder_algo[reorder_algo]\n",
    "                graph_algo_name = get_graph_algorithm_name(graph)\n",
    "                reorder_time = float(0.1)\n",
    "                if 'rand' in graph:\n",
    "                    reorder_time = float(0.1)\n",
    "                else:\n",
    "                    try:\n",
    "                        reorder_time = float(reorder_times[graph_name][reorder_algo_name])\n",
    "                    except: \n",
    "                        print (graph_name)\n",
    "                        print (reorder_algo_name)\n",
    "                        \n",
    "\n",
    "                    \n",
    "                # print(graph_name)\n",
    "                # print(reorder_algo_name)\n",
    "                results.loc[len(results.index)] = [graph_name, reorder_algo_name, graph_algo_name,\n",
    "                                                    algo_time, reorder_time]\n",
    "    except:\n",
    "        print(\"Failed to open: \", graph)\n"
   ]
  },
  {
   "cell_type": "code",
   "execution_count": 13,
   "metadata": {},
   "outputs": [],
   "source": [
    "def make_pareto(algo_name):\n",
    "    to_plot = results[results['graph_algorithm'] == algo_name.lower()]\n",
    "    # to_plot = to_plot[results['reorder_algorithm'] != 'rand']\n",
    "\n",
    "    chart = alt.Chart(to_plot).mark_point(filled=True).encode(\n",
    "        alt.Y('Reorder time', scale=alt.Scale(type='log')), \n",
    "        alt.X('Graph algorithm runtime', scale=alt.Scale(type='log')), \n",
    "        color=alt.Color('Reorder algorithm'),\n",
    "        shape=alt.Shape('Dataset')).properties(\n",
    "        title=algo_name)\n",
    "    chart.save(algo_name + '.svg')\n",
    "    return chart"
   ]
  },
  {
   "cell_type": "code",
   "execution_count": 14,
   "metadata": {},
   "outputs": [
    {
     "data": {
      "text/html": [
       "\n",
       "<div id=\"altair-viz-173a64755b17403e91fcb681e4176b38\"></div>\n",
       "<script type=\"text/javascript\">\n",
       "  var VEGA_DEBUG = (typeof VEGA_DEBUG == \"undefined\") ? {} : VEGA_DEBUG;\n",
       "  (function(spec, embedOpt){\n",
       "    let outputDiv = document.currentScript.previousElementSibling;\n",
       "    if (outputDiv.id !== \"altair-viz-173a64755b17403e91fcb681e4176b38\") {\n",
       "      outputDiv = document.getElementById(\"altair-viz-173a64755b17403e91fcb681e4176b38\");\n",
       "    }\n",
       "    const paths = {\n",
       "      \"vega\": \"https://cdn.jsdelivr.net/npm//vega@5?noext\",\n",
       "      \"vega-lib\": \"https://cdn.jsdelivr.net/npm//vega-lib?noext\",\n",
       "      \"vega-lite\": \"https://cdn.jsdelivr.net/npm//vega-lite@4.17.0?noext\",\n",
       "      \"vega-embed\": \"https://cdn.jsdelivr.net/npm//vega-embed@6?noext\",\n",
       "    };\n",
       "\n",
       "    function maybeLoadScript(lib, version) {\n",
       "      var key = `${lib.replace(\"-\", \"\")}_version`;\n",
       "      return (VEGA_DEBUG[key] == version) ?\n",
       "        Promise.resolve(paths[lib]) :\n",
       "        new Promise(function(resolve, reject) {\n",
       "          var s = document.createElement('script');\n",
       "          document.getElementsByTagName(\"head\")[0].appendChild(s);\n",
       "          s.async = true;\n",
       "          s.onload = () => {\n",
       "            VEGA_DEBUG[key] = version;\n",
       "            return resolve(paths[lib]);\n",
       "          };\n",
       "          s.onerror = () => reject(`Error loading script: ${paths[lib]}`);\n",
       "          s.src = paths[lib];\n",
       "        });\n",
       "    }\n",
       "\n",
       "    function showError(err) {\n",
       "      outputDiv.innerHTML = `<div class=\"error\" style=\"color:red;\">${err}</div>`;\n",
       "      throw err;\n",
       "    }\n",
       "\n",
       "    function displayChart(vegaEmbed) {\n",
       "      vegaEmbed(outputDiv, spec, embedOpt)\n",
       "        .catch(err => showError(`Javascript Error: ${err.message}<br>This usually means there's a typo in your chart specification. See the javascript console for the full traceback.`));\n",
       "    }\n",
       "\n",
       "    if(typeof define === \"function\" && define.amd) {\n",
       "      requirejs.config({paths});\n",
       "      require([\"vega-embed\"], displayChart, err => showError(`Error loading script: ${err.message}`));\n",
       "    } else {\n",
       "      maybeLoadScript(\"vega\", \"5\")\n",
       "        .then(() => maybeLoadScript(\"vega-lite\", \"4.17.0\"))\n",
       "        .then(() => maybeLoadScript(\"vega-embed\", \"6\"))\n",
       "        .catch(showError)\n",
       "        .then(() => displayChart(vegaEmbed));\n",
       "    }\n",
       "  })({\"config\": {\"view\": {\"continuousWidth\": 400, \"continuousHeight\": 300}}, \"data\": {\"name\": \"data-25ff35d802212cb4498e7886ad39b08a\"}, \"mark\": {\"type\": \"point\", \"filled\": true}, \"encoding\": {\"color\": {\"field\": \"Reorder algorithm\", \"type\": \"nominal\"}, \"shape\": {\"field\": \"Dataset\", \"type\": \"nominal\"}, \"x\": {\"field\": \"Graph algorithm runtime\", \"scale\": {\"type\": \"log\"}, \"type\": \"quantitative\"}, \"y\": {\"field\": \"Reorder time\", \"scale\": {\"type\": \"log\"}, \"type\": \"quantitative\"}}, \"title\": \"PR\", \"$schema\": \"https://vega.github.io/schema/vega-lite/v4.17.0.json\", \"datasets\": {\"data-25ff35d802212cb4498e7886ad39b08a\": [{\"Dataset\": \"great-britain_osm\", \"Reorder algorithm\": \"hub\", \"graph_algorithm\": \"pr\", \"Graph algorithm runtime\": 2.304512047767639, \"Reorder time\": 1302.0}, {\"Dataset\": \"arabic-2005\", \"Reorder algorithm\": \"hub\", \"graph_algorithm\": \"pr\", \"Graph algorithm runtime\": 1119.4897338867188, \"Reorder time\": 3491.0}, {\"Dataset\": \"ljournal-2008\", \"Reorder algorithm\": \"deg\", \"graph_algorithm\": \"pr\", \"Graph algorithm runtime\": 88.2488826751709, \"Reorder time\": 2543.0}, {\"Dataset\": \"coAuthorsDBLP\", \"Reorder algorithm\": \"BOBA\", \"graph_algorithm\": \"pr\", \"Graph algorithm runtime\": 4.510873603820801, \"Reorder time\": 2.0}, {\"Dataset\": \"delaunay_n24\", \"Reorder algorithm\": \"deg\", \"graph_algorithm\": \"pr\", \"Graph algorithm runtime\": 24.63457269668579, \"Reorder time\": 5328.0}, {\"Dataset\": \"arabic-2005\", \"Reorder algorithm\": \"Gorder\", \"graph_algorithm\": \"pr\", \"Graph algorithm runtime\": 634.491244506836, \"Reorder time\": 76993.0}, {\"Dataset\": \"road_usa\", \"Reorder algorithm\": \"hub\", \"graph_algorithm\": \"pr\", \"Graph algorithm runtime\": 13.635276937484742, \"Reorder time\": 5092.0}, {\"Dataset\": \"coAuthorsCiteseer\", \"Reorder algorithm\": \"hub\", \"graph_algorithm\": \"pr\", \"Graph algorithm runtime\": 3.3579519987106323, \"Reorder time\": 32.0}, {\"Dataset\": \"coAuthorsCiteseer\", \"Reorder algorithm\": \"BOBA\", \"graph_algorithm\": \"pr\", \"Graph algorithm runtime\": 4.003276801109314, \"Reorder time\": 1.0}, {\"Dataset\": \"delaunay_n23\", \"Reorder algorithm\": \"hub\", \"graph_algorithm\": \"pr\", \"Graph algorithm runtime\": 5.010073614120484, \"Reorder time\": 2355.0}, {\"Dataset\": \"soc-LiveJournal1\", \"Reorder algorithm\": \"deg\", \"graph_algorithm\": \"pr\", \"Graph algorithm runtime\": 67.88756561279297, \"Reorder time\": 2263.0}, {\"Dataset\": \"rgg_n_2_22_s0\", \"Reorder algorithm\": \"RCM\", \"graph_algorithm\": \"pr\", \"Graph algorithm runtime\": 1.85799680352211, \"Reorder time\": 5296.0}, {\"Dataset\": \"rgg_n_2_22_s0\", \"Reorder algorithm\": \"BOBA\", \"graph_algorithm\": \"pr\", \"Graph algorithm runtime\": 2.6944512128829956, \"Reorder time\": 17.0}, {\"Dataset\": \"rgg_n_2_24_s0\", \"Reorder algorithm\": \"deg\", \"graph_algorithm\": \"pr\", \"Graph algorithm runtime\": 38.063104248046876, \"Reorder time\": 4375.0}, {\"Dataset\": \"rgg_n_2_24_s0\", \"Reorder algorithm\": \"hub\", \"graph_algorithm\": \"pr\", \"Graph algorithm runtime\": 39.43255062103272, \"Reorder time\": 129208.0}, {\"Dataset\": \"road_usa\", \"Reorder algorithm\": \"Gorder\", \"graph_algorithm\": \"pr\", \"Graph algorithm runtime\": 4.408166456222534, \"Reorder time\": 9524.0}, {\"Dataset\": \"soc-LiveJournal1\", \"Reorder algorithm\": \"hub\", \"graph_algorithm\": \"pr\", \"Graph algorithm runtime\": 111.45446510314942, \"Reorder time\": 2179.0}, {\"Dataset\": \"coAuthorsCiteseer\", \"Reorder algorithm\": \"Gorder\", \"graph_algorithm\": \"pr\", \"Graph algorithm runtime\": 4.530739212036133, \"Reorder time\": 207.0}, {\"Dataset\": \"road_usa\", \"Reorder algorithm\": \"deg\", \"graph_algorithm\": \"pr\", \"Graph algorithm runtime\": 13.422899103164672, \"Reorder time\": 4973.0}, {\"Dataset\": \"ljournal-2008\", \"Reorder algorithm\": \"BOBA\", \"graph_algorithm\": \"pr\", \"Graph algorithm runtime\": 79.79238357543946, \"Reorder time\": 31.0}, {\"Dataset\": \"delaunay_n23\", \"Reorder algorithm\": \"deg\", \"graph_algorithm\": \"pr\", \"Graph algorithm runtime\": 4.887500786781311, \"Reorder time\": 2214.0}, {\"Dataset\": \"arabic-2005\", \"Reorder algorithm\": \"BOBA\", \"graph_algorithm\": \"pr\", \"Graph algorithm runtime\": 928.983609008789, \"Reorder time\": 224.0}, {\"Dataset\": \"ljournal-2008\", \"Reorder algorithm\": \"hub\", \"graph_algorithm\": \"pr\", \"Graph algorithm runtime\": 85.81468124389649, \"Reorder time\": 2550.0}, {\"Dataset\": \"coAuthorsCiteseer\", \"Reorder algorithm\": \"RCM\", \"graph_algorithm\": \"pr\", \"Graph algorithm runtime\": 3.3344000220298766, \"Reorder time\": 67.0}, {\"Dataset\": \"ljournal-2008\", \"Reorder algorithm\": \"hub\", \"graph_algorithm\": \"pr\", \"Graph algorithm runtime\": 150.67944793701173, \"Reorder time\": 2550.0}, {\"Dataset\": \"rgg_n_2_23_s0\", \"Reorder algorithm\": \"RCM\", \"graph_algorithm\": \"pr\", \"Graph algorithm runtime\": 3.2000000357627867, \"Reorder time\": 12278.0}, {\"Dataset\": \"delaunay_n24\", \"Reorder algorithm\": \"hub\", \"graph_algorithm\": \"pr\", \"Graph algorithm runtime\": 19.026687812805175, \"Reorder time\": 5450.0}, {\"Dataset\": \"arabic-2005\", \"Reorder algorithm\": \"deg\", \"graph_algorithm\": \"pr\", \"Graph algorithm runtime\": 1161.3307983398438, \"Reorder time\": 5703.0}, {\"Dataset\": \"great-britain_osm\", \"Reorder algorithm\": \"deg\", \"graph_algorithm\": \"pr\", \"Graph algorithm runtime\": 2.1875712037086488, \"Reorder time\": 1250.0}, {\"Dataset\": \"rgg_n_2_22_s0\", \"Reorder algorithm\": \"Gorder\", \"graph_algorithm\": \"pr\", \"Graph algorithm runtime\": 1.8364416062831879, \"Reorder time\": 6700.0}, {\"Dataset\": \"delaunay_n23\", \"Reorder algorithm\": \"hub\", \"graph_algorithm\": \"pr\", \"Graph algorithm runtime\": 5.086156797409058, \"Reorder time\": 2355.0}, {\"Dataset\": \"rgg_n_2_23_s0\", \"Reorder algorithm\": \"hub\", \"graph_algorithm\": \"pr\", \"Graph algorithm runtime\": 9.082163238525391, \"Reorder time\": 4368.0}, {\"Dataset\": \"rgg_n_2_22_s0\", \"Reorder algorithm\": \"hub\", \"graph_algorithm\": \"pr\", \"Graph algorithm runtime\": 2.5111040234565736, \"Reorder time\": 1791.0}, {\"Dataset\": \"delaunay_n23\", \"Reorder algorithm\": \"Gorder\", \"graph_algorithm\": \"pr\", \"Graph algorithm runtime\": 2.23984637260437, \"Reorder time\": 6742.0}, {\"Dataset\": \"soc-LiveJournal1\", \"Reorder algorithm\": \"hub\", \"graph_algorithm\": \"pr\", \"Graph algorithm runtime\": 57.073459434509275, \"Reorder time\": 2179.0}, {\"Dataset\": \"rgg_n_2_22_s0\", \"Reorder algorithm\": \"hub\", \"graph_algorithm\": \"pr\", \"Graph algorithm runtime\": 2.478438413143158, \"Reorder time\": 1791.0}, {\"Dataset\": \"coAuthorsCiteseer\", \"Reorder algorithm\": \"hub\", \"graph_algorithm\": \"pr\", \"Graph algorithm runtime\": 7.309977555274964, \"Reorder time\": 32.0}, {\"Dataset\": \"great-britain_osm\", \"Reorder algorithm\": \"RCM\", \"graph_algorithm\": \"pr\", \"Graph algorithm runtime\": 1.4776831984519958, \"Reorder time\": 4283.0}, {\"Dataset\": \"coAuthorsCiteseer\", \"Reorder algorithm\": \"deg\", \"graph_algorithm\": \"pr\", \"Graph algorithm runtime\": 7.328563237190247, \"Reorder time\": 31.0}, {\"Dataset\": \"soc-LiveJournal1\", \"Reorder algorithm\": \"BOBA\", \"graph_algorithm\": \"pr\", \"Graph algorithm runtime\": 56.579839897155765, \"Reorder time\": 35.0}, {\"Dataset\": \"rgg_n_2_24_s0\", \"Reorder algorithm\": \"hub\", \"graph_algorithm\": \"pr\", \"Graph algorithm runtime\": 47.802931213378905, \"Reorder time\": 129208.0}, {\"Dataset\": \"rgg_n_2_22_s0\", \"Reorder algorithm\": \"deg\", \"graph_algorithm\": \"pr\", \"Graph algorithm runtime\": 2.4755199909210206, \"Reorder time\": 1752.0}, {\"Dataset\": \"soc-LiveJournal1\", \"Reorder algorithm\": \"RCM\", \"graph_algorithm\": \"pr\", \"Graph algorithm runtime\": 59.4295295715332, \"Reorder time\": 8101.0}, {\"Dataset\": \"coAuthorsDBLP\", \"Reorder algorithm\": \"RCM\", \"graph_algorithm\": \"pr\", \"Graph algorithm runtime\": 5.018777585029602, \"Reorder time\": 115.0}, {\"Dataset\": \"coAuthorsDBLP\", \"Reorder algorithm\": \"hub\", \"graph_algorithm\": \"pr\", \"Graph algorithm runtime\": 3.767039978504181, \"Reorder time\": 40.0}, {\"Dataset\": \"delaunay_n24\", \"Reorder algorithm\": \"hub\", \"graph_algorithm\": \"pr\", \"Graph algorithm runtime\": 19.335321712493897, \"Reorder time\": 5450.0}, {\"Dataset\": \"delaunay_n23\", \"Reorder algorithm\": \"BOBA\", \"graph_algorithm\": \"pr\", \"Graph algorithm runtime\": 2.322431981563568, \"Reorder time\": 33.0}, {\"Dataset\": \"road_usa\", \"Reorder algorithm\": \"hub\", \"graph_algorithm\": \"pr\", \"Graph algorithm runtime\": 13.855641603469849, \"Reorder time\": 5092.0}, {\"Dataset\": \"great-britain_osm\", \"Reorder algorithm\": \"rand\", \"graph_algorithm\": \"pr\", \"Graph algorithm runtime\": 2.355609583854675, \"Reorder time\": 0.1}, {\"Dataset\": \"rgg_n_2_23_s0\", \"Reorder algorithm\": \"BOBA\", \"graph_algorithm\": \"pr\", \"Graph algorithm runtime\": 4.0256511926651, \"Reorder time\": 46.0}, {\"Dataset\": \"arabic-2005\", \"Reorder algorithm\": \"rand\", \"graph_algorithm\": \"pr\", \"Graph algorithm runtime\": 2364.9627685546875, \"Reorder time\": 0.1}, {\"Dataset\": \"coAuthorsDBLP\", \"Reorder algorithm\": \"deg\", \"graph_algorithm\": \"pr\", \"Graph algorithm runtime\": 8.422758388519288, \"Reorder time\": 40.0}, {\"Dataset\": \"rgg_n_2_23_s0\", \"Reorder algorithm\": \"hub\", \"graph_algorithm\": \"pr\", \"Graph algorithm runtime\": 8.633343935012817, \"Reorder time\": 4368.0}, {\"Dataset\": \"great-britain_osm\", \"Reorder algorithm\": \"BOBA\", \"graph_algorithm\": \"pr\", \"Graph algorithm runtime\": 1.5025152087211608, \"Reorder time\": 22.0}, {\"Dataset\": \"coAuthorsCiteseer\", \"Reorder algorithm\": \"rand\", \"graph_algorithm\": \"pr\", \"Graph algorithm runtime\": 3.1120895743370056, \"Reorder time\": 0.1}, {\"Dataset\": \"soc-LiveJournal1\", \"Reorder algorithm\": \"Gorder\", \"graph_algorithm\": \"pr\", \"Graph algorithm runtime\": 58.7295747756958, \"Reorder time\": 67111.0}, {\"Dataset\": \"rgg_n_2_23_s0\", \"Reorder algorithm\": \"Gorder\", \"graph_algorithm\": \"pr\", \"Graph algorithm runtime\": 3.212544012069702, \"Reorder time\": 14233.0}, {\"Dataset\": \"road_usa\", \"Reorder algorithm\": \"BOBA\", \"graph_algorithm\": \"pr\", \"Graph algorithm runtime\": 4.476671993732452, \"Reorder time\": 91.0}, {\"Dataset\": \"ljournal-2008\", \"Reorder algorithm\": \"RCM\", \"graph_algorithm\": \"pr\", \"Graph algorithm runtime\": 78.69347839355468, \"Reorder time\": 10618.0}, {\"Dataset\": \"rgg_n_2_24_s0\", \"Reorder algorithm\": \"Gorder\", \"graph_algorithm\": \"pr\", \"Graph algorithm runtime\": 7.23102719783783, \"Reorder time\": 29622.0}, {\"Dataset\": \"ljournal-2008\", \"Reorder algorithm\": \"rand\", \"graph_algorithm\": \"pr\", \"Graph algorithm runtime\": 68.19686470031738, \"Reorder time\": 0.1}, {\"Dataset\": \"coAuthorsDBLP\", \"Reorder algorithm\": \"Gorder\", \"graph_algorithm\": \"pr\", \"Graph algorithm runtime\": 5.416652798652649, \"Reorder time\": 360.0}, {\"Dataset\": \"road_usa\", \"Reorder algorithm\": \"RCM\", \"graph_algorithm\": \"pr\", \"Graph algorithm runtime\": 4.400793612003326, \"Reorder time\": 14730.0}, {\"Dataset\": \"rgg_n_2_23_s0\", \"Reorder algorithm\": \"deg\", \"graph_algorithm\": \"pr\", \"Graph algorithm runtime\": 7.744460773468018, \"Reorder time\": 4375.0}, {\"Dataset\": \"coAuthorsDBLP\", \"Reorder algorithm\": \"hub\", \"graph_algorithm\": \"pr\", \"Graph algorithm runtime\": 8.410828828811646, \"Reorder time\": 40.0}, {\"Dataset\": \"rgg_n_2_23_s0\", \"Reorder algorithm\": \"rand\", \"graph_algorithm\": \"pr\", \"Graph algorithm runtime\": 10.567679977416992, \"Reorder time\": 0.1}, {\"Dataset\": \"delaunay_n23\", \"Reorder algorithm\": \"rand\", \"graph_algorithm\": \"pr\", \"Graph algorithm runtime\": 5.128345584869384, \"Reorder time\": 0.1}, {\"Dataset\": \"ljournal-2008\", \"Reorder algorithm\": \"Gorder\", \"graph_algorithm\": \"pr\", \"Graph algorithm runtime\": 83.44867820739746, \"Reorder time\": 79833.0}, {\"Dataset\": \"delaunay_n23\", \"Reorder algorithm\": \"RCM\", \"graph_algorithm\": \"pr\", \"Graph algorithm runtime\": 2.2336512088775633, \"Reorder time\": 6624.0}, {\"Dataset\": \"delaunay_n24\", \"Reorder algorithm\": \"BOBA\", \"graph_algorithm\": \"pr\", \"Graph algorithm runtime\": 5.377587127685547, \"Reorder time\": 73.0}, {\"Dataset\": \"arabic-2005\", \"Reorder algorithm\": \"RCM\", \"graph_algorithm\": \"pr\", \"Graph algorithm runtime\": 1133.5630310058593, \"Reorder time\": 93592.0}, {\"Dataset\": \"rgg_n_2_22_s0\", \"Reorder algorithm\": \"rand\", \"graph_algorithm\": \"pr\", \"Graph algorithm runtime\": 2.509209620952606, \"Reorder time\": 0.1}, {\"Dataset\": \"rgg_n_2_24_s0\", \"Reorder algorithm\": \"BOBA\", \"graph_algorithm\": \"pr\", \"Graph algorithm runtime\": 8.698623991012573, \"Reorder time\": 109.0}, {\"Dataset\": \"soc-LiveJournal1\", \"Reorder algorithm\": \"rand\", \"graph_algorithm\": \"pr\", \"Graph algorithm runtime\": 49.904076766967776, \"Reorder time\": 0.1}, {\"Dataset\": \"rgg_n_2_24_s0\", \"Reorder algorithm\": \"rand\", \"graph_algorithm\": \"pr\", \"Graph algorithm runtime\": 46.123776245117185, \"Reorder time\": 0.1}, {\"Dataset\": \"delaunay_n24\", \"Reorder algorithm\": \"RCM\", \"graph_algorithm\": \"pr\", \"Graph algorithm runtime\": 5.356697607040405, \"Reorder time\": 14302.0}, {\"Dataset\": \"delaunay_n24\", \"Reorder algorithm\": \"Gorder\", \"graph_algorithm\": \"pr\", \"Graph algorithm runtime\": 5.347583913803101, \"Reorder time\": 13619.0}, {\"Dataset\": \"great-britain_osm\", \"Reorder algorithm\": \"Gorder\", \"graph_algorithm\": \"pr\", \"Graph algorithm runtime\": 1.4915071964263915, \"Reorder time\": 2835.0}, {\"Dataset\": \"coAuthorsDBLP\", \"Reorder algorithm\": \"rand\", \"graph_algorithm\": \"pr\", \"Graph algorithm runtime\": 3.4548223972320558, \"Reorder time\": 0.1}, {\"Dataset\": \"rgg_n_2_24_s0\", \"Reorder algorithm\": \"RCM\", \"graph_algorithm\": \"pr\", \"Graph algorithm runtime\": 7.329843211174011, \"Reorder time\": 28756.0}, {\"Dataset\": \"delaunay_n24\", \"Reorder algorithm\": \"rand\", \"graph_algorithm\": \"pr\", \"Graph algorithm runtime\": 19.465011310577392, \"Reorder time\": 0.1}, {\"Dataset\": \"road_usa\", \"Reorder algorithm\": \"rand\", \"graph_algorithm\": \"pr\", \"Graph algorithm runtime\": 14.167859220504761, \"Reorder time\": 0.1}, {\"Dataset\": \"arabic-2005\", \"Reorder algorithm\": \"hub\", \"graph_algorithm\": \"pr\", \"Graph algorithm runtime\": 1567.3471618652343, \"Reorder time\": 3491.0}, {\"Dataset\": \"great-britain_osm\", \"Reorder algorithm\": \"hub\", \"graph_algorithm\": \"pr\", \"Graph algorithm runtime\": 2.284390413761139, \"Reorder time\": 1302.0}]}}, {\"mode\": \"vega-lite\"});\n",
       "</script>"
      ],
      "text/plain": [
       "alt.Chart(...)"
      ]
     },
     "execution_count": 14,
     "metadata": {},
     "output_type": "execute_result"
    }
   ],
   "source": [
    "make_pareto('PR')"
   ]
  },
  {
   "cell_type": "code",
   "execution_count": 15,
   "metadata": {},
   "outputs": [
    {
     "data": {
      "text/html": [
       "\n",
       "<div id=\"altair-viz-61ba2c23833144d0840a19811b82db34\"></div>\n",
       "<script type=\"text/javascript\">\n",
       "  var VEGA_DEBUG = (typeof VEGA_DEBUG == \"undefined\") ? {} : VEGA_DEBUG;\n",
       "  (function(spec, embedOpt){\n",
       "    let outputDiv = document.currentScript.previousElementSibling;\n",
       "    if (outputDiv.id !== \"altair-viz-61ba2c23833144d0840a19811b82db34\") {\n",
       "      outputDiv = document.getElementById(\"altair-viz-61ba2c23833144d0840a19811b82db34\");\n",
       "    }\n",
       "    const paths = {\n",
       "      \"vega\": \"https://cdn.jsdelivr.net/npm//vega@5?noext\",\n",
       "      \"vega-lib\": \"https://cdn.jsdelivr.net/npm//vega-lib?noext\",\n",
       "      \"vega-lite\": \"https://cdn.jsdelivr.net/npm//vega-lite@4.17.0?noext\",\n",
       "      \"vega-embed\": \"https://cdn.jsdelivr.net/npm//vega-embed@6?noext\",\n",
       "    };\n",
       "\n",
       "    function maybeLoadScript(lib, version) {\n",
       "      var key = `${lib.replace(\"-\", \"\")}_version`;\n",
       "      return (VEGA_DEBUG[key] == version) ?\n",
       "        Promise.resolve(paths[lib]) :\n",
       "        new Promise(function(resolve, reject) {\n",
       "          var s = document.createElement('script');\n",
       "          document.getElementsByTagName(\"head\")[0].appendChild(s);\n",
       "          s.async = true;\n",
       "          s.onload = () => {\n",
       "            VEGA_DEBUG[key] = version;\n",
       "            return resolve(paths[lib]);\n",
       "          };\n",
       "          s.onerror = () => reject(`Error loading script: ${paths[lib]}`);\n",
       "          s.src = paths[lib];\n",
       "        });\n",
       "    }\n",
       "\n",
       "    function showError(err) {\n",
       "      outputDiv.innerHTML = `<div class=\"error\" style=\"color:red;\">${err}</div>`;\n",
       "      throw err;\n",
       "    }\n",
       "\n",
       "    function displayChart(vegaEmbed) {\n",
       "      vegaEmbed(outputDiv, spec, embedOpt)\n",
       "        .catch(err => showError(`Javascript Error: ${err.message}<br>This usually means there's a typo in your chart specification. See the javascript console for the full traceback.`));\n",
       "    }\n",
       "\n",
       "    if(typeof define === \"function\" && define.amd) {\n",
       "      requirejs.config({paths});\n",
       "      require([\"vega-embed\"], displayChart, err => showError(`Error loading script: ${err.message}`));\n",
       "    } else {\n",
       "      maybeLoadScript(\"vega\", \"5\")\n",
       "        .then(() => maybeLoadScript(\"vega-lite\", \"4.17.0\"))\n",
       "        .then(() => maybeLoadScript(\"vega-embed\", \"6\"))\n",
       "        .catch(showError)\n",
       "        .then(() => displayChart(vegaEmbed));\n",
       "    }\n",
       "  })({\"config\": {\"view\": {\"continuousWidth\": 400, \"continuousHeight\": 300}}, \"data\": {\"name\": \"data-c69f7d8a24afc16eeb29bd190775aa3d\"}, \"mark\": {\"type\": \"point\", \"filled\": true}, \"encoding\": {\"color\": {\"field\": \"Reorder algorithm\", \"type\": \"nominal\"}, \"shape\": {\"field\": \"Dataset\", \"type\": \"nominal\"}, \"x\": {\"field\": \"Graph algorithm runtime\", \"scale\": {\"type\": \"log\"}, \"type\": \"quantitative\"}, \"y\": {\"field\": \"Reorder time\", \"scale\": {\"type\": \"log\"}, \"type\": \"quantitative\"}}, \"title\": \"TC\", \"$schema\": \"https://vega.github.io/schema/vega-lite/v4.17.0.json\", \"datasets\": {\"data-c69f7d8a24afc16eeb29bd190775aa3d\": [{\"Dataset\": \"coAuthorsDBLP\", \"Reorder algorithm\": \"hub\", \"graph_algorithm\": \"tc\", \"Graph algorithm runtime\": 9.500518465042115, \"Reorder time\": 40.0}, {\"Dataset\": \"great-britain_osm\", \"Reorder algorithm\": \"hub\", \"graph_algorithm\": \"tc\", \"Graph algorithm runtime\": 1.9273216545581817, \"Reorder time\": 1302.0}, {\"Dataset\": \"rgg_n_2_24_s0\", \"Reorder algorithm\": \"rand\", \"graph_algorithm\": \"tc\", \"Graph algorithm runtime\": 112.1380859375, \"Reorder time\": 0.1}, {\"Dataset\": \"delaunay_n24\", \"Reorder algorithm\": \"deg\", \"graph_algorithm\": \"tc\", \"Graph algorithm runtime\": 20.675839233398438, \"Reorder time\": 5328.0}, {\"Dataset\": \"rgg_n_2_23_s0\", \"Reorder algorithm\": \"deg\", \"graph_algorithm\": \"tc\", \"Graph algorithm runtime\": 31.959602451324464, \"Reorder time\": 4375.0}, {\"Dataset\": \"great-britain_osm\", \"Reorder algorithm\": \"RCM\", \"graph_algorithm\": \"tc\", \"Graph algorithm runtime\": 1.0655743807554245, \"Reorder time\": 4283.0}, {\"Dataset\": \"delaunay_n23\", \"Reorder algorithm\": \"hub\", \"graph_algorithm\": \"tc\", \"Graph algorithm runtime\": 10.503065729141236, \"Reorder time\": 2355.0}, {\"Dataset\": \"rgg_n_2_22_s0\", \"Reorder algorithm\": \"RCM\", \"graph_algorithm\": \"tc\", \"Graph algorithm runtime\": 8.35952672958374, \"Reorder time\": 5296.0}, {\"Dataset\": \"coAuthorsDBLP\", \"Reorder algorithm\": \"rand\", \"graph_algorithm\": \"tc\", \"Graph algorithm runtime\": 0.636364783346653, \"Reorder time\": 0.1}, {\"Dataset\": \"rgg_n_2_23_s0\", \"Reorder algorithm\": \"rand\", \"graph_algorithm\": \"tc\", \"Graph algorithm runtime\": 50.00883102416992, \"Reorder time\": 0.1}, {\"Dataset\": \"rgg_n_2_22_s0\", \"Reorder algorithm\": \"BOBA\", \"graph_algorithm\": \"tc\", \"Graph algorithm runtime\": 9.000243330001831, \"Reorder time\": 17.0}, {\"Dataset\": \"great-britain_osm\", \"Reorder algorithm\": \"rand\", \"graph_algorithm\": \"tc\", \"Graph algorithm runtime\": 1.8478080213069916, \"Reorder time\": 0.1}, {\"Dataset\": \"great-britain_osm\", \"Reorder algorithm\": \"BOBA\", \"graph_algorithm\": \"tc\", \"Graph algorithm runtime\": 1.0870783895254135, \"Reorder time\": 22.0}, {\"Dataset\": \"delaunay_n23\", \"Reorder algorithm\": \"deg\", \"graph_algorithm\": \"tc\", \"Graph algorithm runtime\": 9.223424243927003, \"Reorder time\": 2214.0}, {\"Dataset\": \"rgg_n_2_22_s0\", \"Reorder algorithm\": \"rand\", \"graph_algorithm\": \"tc\", \"Graph algorithm runtime\": 21.83434181213379, \"Reorder time\": 0.1}, {\"Dataset\": \"coAuthorsDBLP\", \"Reorder algorithm\": \"BOBA\", \"graph_algorithm\": \"tc\", \"Graph algorithm runtime\": 2.8734463930130003, \"Reorder time\": 2.0}, {\"Dataset\": \"rgg_n_2_23_s0\", \"Reorder algorithm\": \"hub\", \"graph_algorithm\": \"tc\", \"Graph algorithm runtime\": 42.51555862426758, \"Reorder time\": 4368.0}, {\"Dataset\": \"delaunay_n24\", \"Reorder algorithm\": \"hub\", \"graph_algorithm\": \"tc\", \"Graph algorithm runtime\": 23.19436731338501, \"Reorder time\": 5450.0}, {\"Dataset\": \"rgg_n_2_23_s0\", \"Reorder algorithm\": \"RCM\", \"graph_algorithm\": \"tc\", \"Graph algorithm runtime\": 17.653503322601317, \"Reorder time\": 12278.0}, {\"Dataset\": \"great-britain_osm\", \"Reorder algorithm\": \"deg\", \"graph_algorithm\": \"tc\", \"Graph algorithm runtime\": 1.651763266324997, \"Reorder time\": 1250.0}, {\"Dataset\": \"delaunay_n23\", \"Reorder algorithm\": \"Gorder\", \"graph_algorithm\": \"tc\", \"Graph algorithm runtime\": 4.493107032775879, \"Reorder time\": 6742.0}, {\"Dataset\": \"coAuthorsDBLP\", \"Reorder algorithm\": \"deg\", \"graph_algorithm\": \"tc\", \"Graph algorithm runtime\": 7.801958394050598, \"Reorder time\": 40.0}, {\"Dataset\": \"delaunay_n24\", \"Reorder algorithm\": \"rand\", \"graph_algorithm\": \"tc\", \"Graph algorithm runtime\": 22.704844188690185, \"Reorder time\": 0.1}, {\"Dataset\": \"coAuthorsCiteseer\", \"Reorder algorithm\": \"hub\", \"graph_algorithm\": \"tc\", \"Graph algorithm runtime\": 1.3129216313362122, \"Reorder time\": 32.0}, {\"Dataset\": \"rgg_n_2_22_s0\", \"Reorder algorithm\": \"Gorder\", \"graph_algorithm\": \"tc\", \"Graph algorithm runtime\": 8.501453018188476, \"Reorder time\": 6700.0}, {\"Dataset\": \"rgg_n_2_23_s0\", \"Reorder algorithm\": \"BOBA\", \"graph_algorithm\": \"tc\", \"Graph algorithm runtime\": 18.85178804397583, \"Reorder time\": 46.0}, {\"Dataset\": \"delaunay_n23\", \"Reorder algorithm\": \"BOBA\", \"graph_algorithm\": \"tc\", \"Graph algorithm runtime\": 4.249855899810791, \"Reorder time\": 33.0}, {\"Dataset\": \"coAuthorsCiteseer\", \"Reorder algorithm\": \"hub\", \"graph_algorithm\": \"tc\", \"Graph algorithm runtime\": 8.04126718044281, \"Reorder time\": 32.0}, {\"Dataset\": \"coAuthorsCiteseer\", \"Reorder algorithm\": \"deg\", \"graph_algorithm\": \"tc\", \"Graph algorithm runtime\": 6.57771520614624, \"Reorder time\": 31.0}, {\"Dataset\": \"coAuthorsCiteseer\", \"Reorder algorithm\": \"RCM\", \"graph_algorithm\": \"tc\", \"Graph algorithm runtime\": 3.5602944254875184, \"Reorder time\": 67.0}, {\"Dataset\": \"road_usa\", \"Reorder algorithm\": \"hub\", \"graph_algorithm\": \"tc\", \"Graph algorithm runtime\": 10.069606590270997, \"Reorder time\": 5092.0}, {\"Dataset\": \"great-britain_osm\", \"Reorder algorithm\": \"Gorder\", \"graph_algorithm\": \"tc\", \"Graph algorithm runtime\": 1.08159998357296, \"Reorder time\": 2835.0}, {\"Dataset\": \"delaunay_n23\", \"Reorder algorithm\": \"rand\", \"graph_algorithm\": \"tc\", \"Graph algorithm runtime\": 10.263245105743408, \"Reorder time\": 0.1}, {\"Dataset\": \"coAuthorsDBLP\", \"Reorder algorithm\": \"RCM\", \"graph_algorithm\": \"tc\", \"Graph algorithm runtime\": 3.1006208300590514, \"Reorder time\": 115.0}, {\"Dataset\": \"arabic-2005\", \"Reorder algorithm\": \"rand\", \"graph_algorithm\": \"tc\", \"Graph algorithm runtime\": 2444.0682861328123, \"Reorder time\": 0.1}, {\"Dataset\": \"arabic-2005\", \"Reorder algorithm\": \"BOBA\", \"graph_algorithm\": \"tc\", \"Graph algorithm runtime\": 9965.84638671875, \"Reorder time\": 224.0}, {\"Dataset\": \"road_usa\", \"Reorder algorithm\": \"BOBA\", \"graph_algorithm\": \"tc\", \"Graph algorithm runtime\": 4.196249413490295, \"Reorder time\": 91.0}, {\"Dataset\": \"rgg_n_2_24_s0\", \"Reorder algorithm\": \"hub\", \"graph_algorithm\": \"tc\", \"Graph algorithm runtime\": 147.3324119567871, \"Reorder time\": 129208.0}, {\"Dataset\": \"delaunay_n24\", \"Reorder algorithm\": \"Gorder\", \"graph_algorithm\": \"tc\", \"Graph algorithm runtime\": 9.554380941390992, \"Reorder time\": 13619.0}, {\"Dataset\": \"coAuthorsDBLP\", \"Reorder algorithm\": \"hub\", \"graph_algorithm\": \"tc\", \"Graph algorithm runtime\": 1.098854374885559, \"Reorder time\": 40.0}, {\"Dataset\": \"rgg_n_2_24_s0\", \"Reorder algorithm\": \"hub\", \"graph_algorithm\": \"tc\", \"Graph algorithm runtime\": 90.4012279510498, \"Reorder time\": 129208.0}, {\"Dataset\": \"rgg_n_2_24_s0\", \"Reorder algorithm\": \"deg\", \"graph_algorithm\": \"tc\", \"Graph algorithm runtime\": 73.03475074768066, \"Reorder time\": 4375.0}, {\"Dataset\": \"rgg_n_2_23_s0\", \"Reorder algorithm\": \"hub\", \"graph_algorithm\": \"tc\", \"Graph algorithm runtime\": 62.87564697265625, \"Reorder time\": 4368.0}, {\"Dataset\": \"rgg_n_2_23_s0\", \"Reorder algorithm\": \"Gorder\", \"graph_algorithm\": \"tc\", \"Graph algorithm runtime\": 17.98256597518921, \"Reorder time\": 14233.0}, {\"Dataset\": \"great-britain_osm\", \"Reorder algorithm\": \"hub\", \"graph_algorithm\": \"tc\", \"Graph algorithm runtime\": 1.967257660627365, \"Reorder time\": 1302.0}, {\"Dataset\": \"rgg_n_2_22_s0\", \"Reorder algorithm\": \"hub\", \"graph_algorithm\": \"tc\", \"Graph algorithm runtime\": 29.118565845489503, \"Reorder time\": 1791.0}, {\"Dataset\": \"coAuthorsCiteseer\", \"Reorder algorithm\": \"BOBA\", \"graph_algorithm\": \"tc\", \"Graph algorithm runtime\": 2.783795213699341, \"Reorder time\": 1.0}, {\"Dataset\": \"coAuthorsCiteseer\", \"Reorder algorithm\": \"Gorder\", \"graph_algorithm\": \"tc\", \"Graph algorithm runtime\": 3.3020928382873533, \"Reorder time\": 207.0}, {\"Dataset\": \"coAuthorsDBLP\", \"Reorder algorithm\": \"Gorder\", \"graph_algorithm\": \"tc\", \"Graph algorithm runtime\": 4.3820031642913815, \"Reorder time\": 360.0}, {\"Dataset\": \"road_usa\", \"Reorder algorithm\": \"RCM\", \"graph_algorithm\": \"tc\", \"Graph algorithm runtime\": 4.116121435165406, \"Reorder time\": 14730.0}, {\"Dataset\": \"arabic-2005\", \"Reorder algorithm\": \"RCM\", \"graph_algorithm\": \"tc\", \"Graph algorithm runtime\": 11200.67607421875, \"Reorder time\": 93592.0}, {\"Dataset\": \"rgg_n_2_24_s0\", \"Reorder algorithm\": \"Gorder\", \"graph_algorithm\": \"tc\", \"Graph algorithm runtime\": 39.224320030212404, \"Reorder time\": 29622.0}, {\"Dataset\": \"delaunay_n23\", \"Reorder algorithm\": \"RCM\", \"graph_algorithm\": \"tc\", \"Graph algorithm runtime\": 4.231628656387329, \"Reorder time\": 6624.0}, {\"Dataset\": \"delaunay_n24\", \"Reorder algorithm\": \"hub\", \"graph_algorithm\": \"tc\", \"Graph algorithm runtime\": 28.255026626586915, \"Reorder time\": 5450.0}, {\"Dataset\": \"coAuthorsCiteseer\", \"Reorder algorithm\": \"rand\", \"graph_algorithm\": \"tc\", \"Graph algorithm runtime\": 0.6611967712640763, \"Reorder time\": 0.1}, {\"Dataset\": \"road_usa\", \"Reorder algorithm\": \"Gorder\", \"graph_algorithm\": \"tc\", \"Graph algorithm runtime\": 4.268953466415406, \"Reorder time\": 9524.0}, {\"Dataset\": \"road_usa\", \"Reorder algorithm\": \"deg\", \"graph_algorithm\": \"tc\", \"Graph algorithm runtime\": 8.361318445205688, \"Reorder time\": 4973.0}, {\"Dataset\": \"arabic-2005\", \"Reorder algorithm\": \"deg\", \"graph_algorithm\": \"tc\", \"Graph algorithm runtime\": 12761.76044921875, \"Reorder time\": 5703.0}, {\"Dataset\": \"rgg_n_2_22_s0\", \"Reorder algorithm\": \"deg\", \"graph_algorithm\": \"tc\", \"Graph algorithm runtime\": 13.730355215072631, \"Reorder time\": 1752.0}, {\"Dataset\": \"delaunay_n24\", \"Reorder algorithm\": \"RCM\", \"graph_algorithm\": \"tc\", \"Graph algorithm runtime\": 9.019392108917236, \"Reorder time\": 14302.0}, {\"Dataset\": \"rgg_n_2_24_s0\", \"Reorder algorithm\": \"BOBA\", \"graph_algorithm\": \"tc\", \"Graph algorithm runtime\": 40.43591651916504, \"Reorder time\": 109.0}, {\"Dataset\": \"rgg_n_2_22_s0\", \"Reorder algorithm\": \"hub\", \"graph_algorithm\": \"tc\", \"Graph algorithm runtime\": 18.97000904083252, \"Reorder time\": 1791.0}, {\"Dataset\": \"arabic-2005\", \"Reorder algorithm\": \"hub\", \"graph_algorithm\": \"tc\", \"Graph algorithm runtime\": 10599.164794921875, \"Reorder time\": 3491.0}, {\"Dataset\": \"arabic-2005\", \"Reorder algorithm\": \"Gorder\", \"graph_algorithm\": \"tc\", \"Graph algorithm runtime\": 10035.217431640625, \"Reorder time\": 76993.0}, {\"Dataset\": \"road_usa\", \"Reorder algorithm\": \"rand\", \"graph_algorithm\": \"tc\", \"Graph algorithm runtime\": 9.255117082595826, \"Reorder time\": 0.1}, {\"Dataset\": \"road_usa\", \"Reorder algorithm\": \"hub\", \"graph_algorithm\": \"tc\", \"Graph algorithm runtime\": 8.616038751602172, \"Reorder time\": 5092.0}, {\"Dataset\": \"delaunay_n24\", \"Reorder algorithm\": \"BOBA\", \"graph_algorithm\": \"tc\", \"Graph algorithm runtime\": 9.068083381652832, \"Reorder time\": 73.0}, {\"Dataset\": \"delaunay_n23\", \"Reorder algorithm\": \"hub\", \"graph_algorithm\": \"tc\", \"Graph algorithm runtime\": 12.901376152038575, \"Reorder time\": 2355.0}, {\"Dataset\": \"rgg_n_2_24_s0\", \"Reorder algorithm\": \"RCM\", \"graph_algorithm\": \"tc\", \"Graph algorithm runtime\": 38.52436428070068, \"Reorder time\": 28756.0}, {\"Dataset\": \"arabic-2005\", \"Reorder algorithm\": \"hub\", \"graph_algorithm\": \"tc\", \"Graph algorithm runtime\": 4803.716015625, \"Reorder time\": 3491.0}]}}, {\"mode\": \"vega-lite\"});\n",
       "</script>"
      ],
      "text/plain": [
       "alt.Chart(...)"
      ]
     },
     "execution_count": 15,
     "metadata": {},
     "output_type": "execute_result"
    }
   ],
   "source": [
    "make_pareto('TC')"
   ]
  },
  {
   "cell_type": "code",
   "execution_count": 16,
   "metadata": {},
   "outputs": [
    {
     "data": {
      "text/html": [
       "\n",
       "<div id=\"altair-viz-2c2a4d96acfa472289549271fbdf7099\"></div>\n",
       "<script type=\"text/javascript\">\n",
       "  var VEGA_DEBUG = (typeof VEGA_DEBUG == \"undefined\") ? {} : VEGA_DEBUG;\n",
       "  (function(spec, embedOpt){\n",
       "    let outputDiv = document.currentScript.previousElementSibling;\n",
       "    if (outputDiv.id !== \"altair-viz-2c2a4d96acfa472289549271fbdf7099\") {\n",
       "      outputDiv = document.getElementById(\"altair-viz-2c2a4d96acfa472289549271fbdf7099\");\n",
       "    }\n",
       "    const paths = {\n",
       "      \"vega\": \"https://cdn.jsdelivr.net/npm//vega@5?noext\",\n",
       "      \"vega-lib\": \"https://cdn.jsdelivr.net/npm//vega-lib?noext\",\n",
       "      \"vega-lite\": \"https://cdn.jsdelivr.net/npm//vega-lite@4.17.0?noext\",\n",
       "      \"vega-embed\": \"https://cdn.jsdelivr.net/npm//vega-embed@6?noext\",\n",
       "    };\n",
       "\n",
       "    function maybeLoadScript(lib, version) {\n",
       "      var key = `${lib.replace(\"-\", \"\")}_version`;\n",
       "      return (VEGA_DEBUG[key] == version) ?\n",
       "        Promise.resolve(paths[lib]) :\n",
       "        new Promise(function(resolve, reject) {\n",
       "          var s = document.createElement('script');\n",
       "          document.getElementsByTagName(\"head\")[0].appendChild(s);\n",
       "          s.async = true;\n",
       "          s.onload = () => {\n",
       "            VEGA_DEBUG[key] = version;\n",
       "            return resolve(paths[lib]);\n",
       "          };\n",
       "          s.onerror = () => reject(`Error loading script: ${paths[lib]}`);\n",
       "          s.src = paths[lib];\n",
       "        });\n",
       "    }\n",
       "\n",
       "    function showError(err) {\n",
       "      outputDiv.innerHTML = `<div class=\"error\" style=\"color:red;\">${err}</div>`;\n",
       "      throw err;\n",
       "    }\n",
       "\n",
       "    function displayChart(vegaEmbed) {\n",
       "      vegaEmbed(outputDiv, spec, embedOpt)\n",
       "        .catch(err => showError(`Javascript Error: ${err.message}<br>This usually means there's a typo in your chart specification. See the javascript console for the full traceback.`));\n",
       "    }\n",
       "\n",
       "    if(typeof define === \"function\" && define.amd) {\n",
       "      requirejs.config({paths});\n",
       "      require([\"vega-embed\"], displayChart, err => showError(`Error loading script: ${err.message}`));\n",
       "    } else {\n",
       "      maybeLoadScript(\"vega\", \"5\")\n",
       "        .then(() => maybeLoadScript(\"vega-lite\", \"4.17.0\"))\n",
       "        .then(() => maybeLoadScript(\"vega-embed\", \"6\"))\n",
       "        .catch(showError)\n",
       "        .then(() => displayChart(vegaEmbed));\n",
       "    }\n",
       "  })({\"config\": {\"view\": {\"continuousWidth\": 400, \"continuousHeight\": 300}}, \"data\": {\"name\": \"data-4f174dc954c927173d3b3f84242c13ba\"}, \"mark\": {\"type\": \"point\", \"filled\": true}, \"encoding\": {\"color\": {\"field\": \"Reorder algorithm\", \"type\": \"nominal\"}, \"shape\": {\"field\": \"Dataset\", \"type\": \"nominal\"}, \"x\": {\"field\": \"Graph algorithm runtime\", \"scale\": {\"type\": \"log\"}, \"type\": \"quantitative\"}, \"y\": {\"field\": \"Reorder time\", \"scale\": {\"type\": \"log\"}, \"type\": \"quantitative\"}}, \"title\": \"SSSP\", \"$schema\": \"https://vega.github.io/schema/vega-lite/v4.17.0.json\", \"datasets\": {\"data-4f174dc954c927173d3b3f84242c13ba\": [{\"Dataset\": \"ljournal-2008\", \"Reorder algorithm\": \"Gorder\", \"graph_algorithm\": \"sssp\", \"Graph algorithm runtime\": 54.47854099273682, \"Reorder time\": 79833.0}, {\"Dataset\": \"road_usa\", \"Reorder algorithm\": \"Gorder\", \"graph_algorithm\": \"sssp\", \"Graph algorithm runtime\": 3078.5217407226564, \"Reorder time\": 9524.0}, {\"Dataset\": \"coAuthorsCiteseer\", \"Reorder algorithm\": \"RCM\", \"graph_algorithm\": \"sssp\", \"Graph algorithm runtime\": 3.704473578929901, \"Reorder time\": 67.0}, {\"Dataset\": \"delaunay_n23\", \"Reorder algorithm\": \"hub\", \"graph_algorithm\": \"sssp\", \"Graph algorithm runtime\": 595.9199676513672, \"Reorder time\": 2355.0}, {\"Dataset\": \"delaunay_n23\", \"Reorder algorithm\": \"deg\", \"graph_algorithm\": \"sssp\", \"Graph algorithm runtime\": 515.365689086914, \"Reorder time\": 2214.0}, {\"Dataset\": \"rgg_n_2_23_s0\", \"Reorder algorithm\": \"RCM\", \"graph_algorithm\": \"sssp\", \"Graph algorithm runtime\": 1105.4904296875, \"Reorder time\": 12278.0}, {\"Dataset\": \"delaunay_n23\", \"Reorder algorithm\": \"RCM\", \"graph_algorithm\": \"sssp\", \"Graph algorithm runtime\": 591.7995025634766, \"Reorder time\": 6624.0}, {\"Dataset\": \"road_usa\", \"Reorder algorithm\": \"rand\", \"graph_algorithm\": \"sssp\", \"Graph algorithm runtime\": 3642.9798950195313, \"Reorder time\": 0.1}, {\"Dataset\": \"great-britain_osm\", \"Reorder algorithm\": \"deg\", \"graph_algorithm\": \"sssp\", \"Graph algorithm runtime\": 3202.301953125, \"Reorder time\": 1250.0}, {\"Dataset\": \"ljournal-2008\", \"Reorder algorithm\": \"rand\", \"graph_algorithm\": \"sssp\", \"Graph algorithm runtime\": 55.337216186523435, \"Reorder time\": 0.1}, {\"Dataset\": \"arabic-2005\", \"Reorder algorithm\": \"deg\", \"graph_algorithm\": \"sssp\", \"Graph algorithm runtime\": 322.89556579589845, \"Reorder time\": 5703.0}, {\"Dataset\": \"rgg_n_2_22_s0\", \"Reorder algorithm\": \"hub\", \"graph_algorithm\": \"sssp\", \"Graph algorithm runtime\": 645.9294677734375, \"Reorder time\": 1791.0}, {\"Dataset\": \"road_usa\", \"Reorder algorithm\": \"deg\", \"graph_algorithm\": \"sssp\", \"Graph algorithm runtime\": 3776.979040527344, \"Reorder time\": 4973.0}, {\"Dataset\": \"delaunay_n24\", \"Reorder algorithm\": \"hub\", \"graph_algorithm\": \"sssp\", \"Graph algorithm runtime\": 755.4335815429688, \"Reorder time\": 5450.0}, {\"Dataset\": \"delaunay_n24\", \"Reorder algorithm\": \"deg\", \"graph_algorithm\": \"sssp\", \"Graph algorithm runtime\": 783.2519714355469, \"Reorder time\": 5328.0}, {\"Dataset\": \"road_usa\", \"Reorder algorithm\": \"hub\", \"graph_algorithm\": \"sssp\", \"Graph algorithm runtime\": 3739.24228515625, \"Reorder time\": 5092.0}, {\"Dataset\": \"arabic-2005\", \"Reorder algorithm\": \"hub\", \"graph_algorithm\": \"sssp\", \"Graph algorithm runtime\": 11.64554238319397, \"Reorder time\": 3491.0}, {\"Dataset\": \"rgg_n_2_22_s0\", \"Reorder algorithm\": \"RCM\", \"graph_algorithm\": \"sssp\", \"Graph algorithm runtime\": 782.1321197509766, \"Reorder time\": 5296.0}, {\"Dataset\": \"rgg_n_2_22_s0\", \"Reorder algorithm\": \"deg\", \"graph_algorithm\": \"sssp\", \"Graph algorithm runtime\": 645.4717468261719, \"Reorder time\": 1752.0}, {\"Dataset\": \"coAuthorsCiteseer\", \"Reorder algorithm\": \"rand\", \"graph_algorithm\": \"sssp\", \"Graph algorithm runtime\": 3.0681087970733643, \"Reorder time\": 0.1}, {\"Dataset\": \"delaunay_n24\", \"Reorder algorithm\": \"RCM\", \"graph_algorithm\": \"sssp\", \"Graph algorithm runtime\": 883.1458404541015, \"Reorder time\": 14302.0}, {\"Dataset\": \"great-britain_osm\", \"Reorder algorithm\": \"hub\", \"graph_algorithm\": \"sssp\", \"Graph algorithm runtime\": 3209.835400390625, \"Reorder time\": 1302.0}, {\"Dataset\": \"delaunay_n23\", \"Reorder algorithm\": \"hub\", \"graph_algorithm\": \"sssp\", \"Graph algorithm runtime\": 727.8006286621094, \"Reorder time\": 2355.0}, {\"Dataset\": \"rgg_n_2_23_s0\", \"Reorder algorithm\": \"BOBA\", \"graph_algorithm\": \"sssp\", \"Graph algorithm runtime\": 975.3101348876953, \"Reorder time\": 46.0}, {\"Dataset\": \"coAuthorsCiteseer\", \"Reorder algorithm\": \"BOBA\", \"graph_algorithm\": \"sssp\", \"Graph algorithm runtime\": 3.0176767826080324, \"Reorder time\": 1.0}, {\"Dataset\": \"delaunay_n24\", \"Reorder algorithm\": \"hub\", \"graph_algorithm\": \"sssp\", \"Graph algorithm runtime\": 862.0308990478516, \"Reorder time\": 5450.0}, {\"Dataset\": \"delaunay_n23\", \"Reorder algorithm\": \"BOBA\", \"graph_algorithm\": \"sssp\", \"Graph algorithm runtime\": 570.9155853271484, \"Reorder time\": 33.0}, {\"Dataset\": \"great-britain_osm\", \"Reorder algorithm\": \"Gorder\", \"graph_algorithm\": \"sssp\", \"Graph algorithm runtime\": 3787.2409790039064, \"Reorder time\": 2835.0}, {\"Dataset\": \"ljournal-2008\", \"Reorder algorithm\": \"deg\", \"graph_algorithm\": \"sssp\", \"Graph algorithm runtime\": 55.57913589477539, \"Reorder time\": 2543.0}, {\"Dataset\": \"arabic-2005\", \"Reorder algorithm\": \"BOBA\", \"graph_algorithm\": \"sssp\", \"Graph algorithm runtime\": 341.4033905029297, \"Reorder time\": 224.0}, {\"Dataset\": \"great-britain_osm\", \"Reorder algorithm\": \"hub\", \"graph_algorithm\": \"sssp\", \"Graph algorithm runtime\": 3645.058642578125, \"Reorder time\": 1302.0}, {\"Dataset\": \"coAuthorsDBLP\", \"Reorder algorithm\": \"RCM\", \"graph_algorithm\": \"sssp\", \"Graph algorithm runtime\": 3.1236095786094666, \"Reorder time\": 115.0}, {\"Dataset\": \"coAuthorsDBLP\", \"Reorder algorithm\": \"BOBA\", \"graph_algorithm\": \"sssp\", \"Graph algorithm runtime\": 2.506342387199402, \"Reorder time\": 2.0}, {\"Dataset\": \"soc-LiveJournal1\", \"Reorder algorithm\": \"BOBA\", \"graph_algorithm\": \"sssp\", \"Graph algorithm runtime\": 37.665792274475095, \"Reorder time\": 35.0}, {\"Dataset\": \"rgg_n_2_22_s0\", \"Reorder algorithm\": \"BOBA\", \"graph_algorithm\": \"sssp\", \"Graph algorithm runtime\": 687.877328491211, \"Reorder time\": 17.0}, {\"Dataset\": \"coAuthorsCiteseer\", \"Reorder algorithm\": \"deg\", \"graph_algorithm\": \"sssp\", \"Graph algorithm runtime\": 3.0799360156059263, \"Reorder time\": 31.0}, {\"Dataset\": \"delaunay_n23\", \"Reorder algorithm\": \"Gorder\", \"graph_algorithm\": \"sssp\", \"Graph algorithm runtime\": 506.6917892456055, \"Reorder time\": 6742.0}, {\"Dataset\": \"arabic-2005\", \"Reorder algorithm\": \"rand\", \"graph_algorithm\": \"sssp\", \"Graph algorithm runtime\": 374.23682556152346, \"Reorder time\": 0.1}, {\"Dataset\": \"coAuthorsDBLP\", \"Reorder algorithm\": \"rand\", \"graph_algorithm\": \"sssp\", \"Graph algorithm runtime\": 2.480179214477539, \"Reorder time\": 0.1}, {\"Dataset\": \"soc-LiveJournal1\", \"Reorder algorithm\": \"hub\", \"graph_algorithm\": \"sssp\", \"Graph algorithm runtime\": 37.18231067657471, \"Reorder time\": 2179.0}, {\"Dataset\": \"rgg_n_2_23_s0\", \"Reorder algorithm\": \"rand\", \"graph_algorithm\": \"sssp\", \"Graph algorithm runtime\": 836.2345520019531, \"Reorder time\": 0.1}, {\"Dataset\": \"ljournal-2008\", \"Reorder algorithm\": \"BOBA\", \"graph_algorithm\": \"sssp\", \"Graph algorithm runtime\": 55.3627649307251, \"Reorder time\": 31.0}, {\"Dataset\": \"rgg_n_2_23_s0\", \"Reorder algorithm\": \"Gorder\", \"graph_algorithm\": \"sssp\", \"Graph algorithm runtime\": 713.6174102783203, \"Reorder time\": 14233.0}, {\"Dataset\": \"great-britain_osm\", \"Reorder algorithm\": \"RCM\", \"graph_algorithm\": \"sssp\", \"Graph algorithm runtime\": 4171.366650390625, \"Reorder time\": 4283.0}, {\"Dataset\": \"coAuthorsCiteseer\", \"Reorder algorithm\": \"hub\", \"graph_algorithm\": \"sssp\", \"Graph algorithm runtime\": 3.077120006084442, \"Reorder time\": 32.0}, {\"Dataset\": \"rgg_n_2_22_s0\", \"Reorder algorithm\": \"rand\", \"graph_algorithm\": \"sssp\", \"Graph algorithm runtime\": 730.2731292724609, \"Reorder time\": 0.1}, {\"Dataset\": \"ljournal-2008\", \"Reorder algorithm\": \"hub\", \"graph_algorithm\": \"sssp\", \"Graph algorithm runtime\": 54.30732765197754, \"Reorder time\": 2550.0}, {\"Dataset\": \"coAuthorsDBLP\", \"Reorder algorithm\": \"Gorder\", \"graph_algorithm\": \"sssp\", \"Graph algorithm runtime\": 2.378649592399597, \"Reorder time\": 360.0}, {\"Dataset\": \"ljournal-2008\", \"Reorder algorithm\": \"RCM\", \"graph_algorithm\": \"sssp\", \"Graph algorithm runtime\": 79.63678855895996, \"Reorder time\": 10618.0}, {\"Dataset\": \"delaunay_n23\", \"Reorder algorithm\": \"rand\", \"graph_algorithm\": \"sssp\", \"Graph algorithm runtime\": 597.2927429199219, \"Reorder time\": 0.1}, {\"Dataset\": \"rgg_n_2_22_s0\", \"Reorder algorithm\": \"Gorder\", \"graph_algorithm\": \"sssp\", \"Graph algorithm runtime\": 515.7772811889648, \"Reorder time\": 6700.0}, {\"Dataset\": \"delaunay_n24\", \"Reorder algorithm\": \"BOBA\", \"graph_algorithm\": \"sssp\", \"Graph algorithm runtime\": 847.5913299560547, \"Reorder time\": 73.0}, {\"Dataset\": \"road_usa\", \"Reorder algorithm\": \"hub\", \"graph_algorithm\": \"sssp\", \"Graph algorithm runtime\": 3603.0099487304688, \"Reorder time\": 5092.0}, {\"Dataset\": \"ljournal-2008\", \"Reorder algorithm\": \"hub\", \"graph_algorithm\": \"sssp\", \"Graph algorithm runtime\": 53.713459205627444, \"Reorder time\": 2550.0}, {\"Dataset\": \"road_usa\", \"Reorder algorithm\": \"RCM\", \"graph_algorithm\": \"sssp\", \"Graph algorithm runtime\": 3912.30478515625, \"Reorder time\": 14730.0}, {\"Dataset\": \"great-britain_osm\", \"Reorder algorithm\": \"BOBA\", \"graph_algorithm\": \"sssp\", \"Graph algorithm runtime\": 2866.8478393554688, \"Reorder time\": 22.0}, {\"Dataset\": \"coAuthorsCiteseer\", \"Reorder algorithm\": \"hub\", \"graph_algorithm\": \"sssp\", \"Graph algorithm runtime\": 3.157043218612671, \"Reorder time\": 32.0}, {\"Dataset\": \"arabic-2005\", \"Reorder algorithm\": \"Gorder\", \"graph_algorithm\": \"sssp\", \"Graph algorithm runtime\": 288.3706886291504, \"Reorder time\": 76993.0}, {\"Dataset\": \"soc-LiveJournal1\", \"Reorder algorithm\": \"RCM\", \"graph_algorithm\": \"sssp\", \"Graph algorithm runtime\": 1.2785663664340974, \"Reorder time\": 8101.0}, {\"Dataset\": \"delaunay_n24\", \"Reorder algorithm\": \"rand\", \"graph_algorithm\": \"sssp\", \"Graph algorithm runtime\": 859.5425842285156, \"Reorder time\": 0.1}, {\"Dataset\": \"coAuthorsDBLP\", \"Reorder algorithm\": \"deg\", \"graph_algorithm\": \"sssp\", \"Graph algorithm runtime\": 2.809497618675232, \"Reorder time\": 40.0}, {\"Dataset\": \"rgg_n_2_23_s0\", \"Reorder algorithm\": \"hub\", \"graph_algorithm\": \"sssp\", \"Graph algorithm runtime\": 727.6760070800781, \"Reorder time\": 4368.0}, {\"Dataset\": \"great-britain_osm\", \"Reorder algorithm\": \"rand\", \"graph_algorithm\": \"sssp\", \"Graph algorithm runtime\": 3491.619274902344, \"Reorder time\": 0.1}, {\"Dataset\": \"soc-LiveJournal1\", \"Reorder algorithm\": \"Gorder\", \"graph_algorithm\": \"sssp\", \"Graph algorithm runtime\": 38.38950414657593, \"Reorder time\": 67111.0}, {\"Dataset\": \"soc-LiveJournal1\", \"Reorder algorithm\": \"deg\", \"graph_algorithm\": \"sssp\", \"Graph algorithm runtime\": 39.12299480438232, \"Reorder time\": 2263.0}, {\"Dataset\": \"arabic-2005\", \"Reorder algorithm\": \"hub\", \"graph_algorithm\": \"sssp\", \"Graph algorithm runtime\": 367.3102340698242, \"Reorder time\": 3491.0}, {\"Dataset\": \"coAuthorsDBLP\", \"Reorder algorithm\": \"hub\", \"graph_algorithm\": \"sssp\", \"Graph algorithm runtime\": 2.5423871994018556, \"Reorder time\": 40.0}, {\"Dataset\": \"arabic-2005\", \"Reorder algorithm\": \"RCM\", \"graph_algorithm\": \"sssp\", \"Graph algorithm runtime\": 79.47555742263793, \"Reorder time\": 93592.0}, {\"Dataset\": \"soc-LiveJournal1\", \"Reorder algorithm\": \"rand\", \"graph_algorithm\": \"sssp\", \"Graph algorithm runtime\": 37.89317083358765, \"Reorder time\": 0.1}, {\"Dataset\": \"rgg_n_2_23_s0\", \"Reorder algorithm\": \"hub\", \"graph_algorithm\": \"sssp\", \"Graph algorithm runtime\": 836.6774719238281, \"Reorder time\": 4368.0}, {\"Dataset\": \"rgg_n_2_22_s0\", \"Reorder algorithm\": \"hub\", \"graph_algorithm\": \"sssp\", \"Graph algorithm runtime\": 729.4707122802735, \"Reorder time\": 1791.0}, {\"Dataset\": \"soc-LiveJournal1\", \"Reorder algorithm\": \"hub\", \"graph_algorithm\": \"sssp\", \"Graph algorithm runtime\": 37.20089635848999, \"Reorder time\": 2179.0}, {\"Dataset\": \"coAuthorsCiteseer\", \"Reorder algorithm\": \"Gorder\", \"graph_algorithm\": \"sssp\", \"Graph algorithm runtime\": 2.772377598285675, \"Reorder time\": 207.0}, {\"Dataset\": \"rgg_n_2_23_s0\", \"Reorder algorithm\": \"deg\", \"graph_algorithm\": \"sssp\", \"Graph algorithm runtime\": 736.4263946533204, \"Reorder time\": 4375.0}, {\"Dataset\": \"road_usa\", \"Reorder algorithm\": \"BOBA\", \"graph_algorithm\": \"sssp\", \"Graph algorithm runtime\": 2977.405651855469, \"Reorder time\": 91.0}, {\"Dataset\": \"coAuthorsDBLP\", \"Reorder algorithm\": \"hub\", \"graph_algorithm\": \"sssp\", \"Graph algorithm runtime\": 2.796902394294739, \"Reorder time\": 40.0}, {\"Dataset\": \"delaunay_n24\", \"Reorder algorithm\": \"Gorder\", \"graph_algorithm\": \"sssp\", \"Graph algorithm runtime\": 739.7477386474609, \"Reorder time\": 13619.0}]}}, {\"mode\": \"vega-lite\"});\n",
       "</script>"
      ],
      "text/plain": [
       "alt.Chart(...)"
      ]
     },
     "execution_count": 16,
     "metadata": {},
     "output_type": "execute_result"
    }
   ],
   "source": [
    "make_pareto('SSSP')"
   ]
  },
  {
   "cell_type": "code",
   "execution_count": 17,
   "metadata": {},
   "outputs": [
    {
     "data": {
      "text/html": [
       "\n",
       "<div id=\"altair-viz-5e676c729a3d45a0a3d64e44e81d3bda\"></div>\n",
       "<script type=\"text/javascript\">\n",
       "  var VEGA_DEBUG = (typeof VEGA_DEBUG == \"undefined\") ? {} : VEGA_DEBUG;\n",
       "  (function(spec, embedOpt){\n",
       "    let outputDiv = document.currentScript.previousElementSibling;\n",
       "    if (outputDiv.id !== \"altair-viz-5e676c729a3d45a0a3d64e44e81d3bda\") {\n",
       "      outputDiv = document.getElementById(\"altair-viz-5e676c729a3d45a0a3d64e44e81d3bda\");\n",
       "    }\n",
       "    const paths = {\n",
       "      \"vega\": \"https://cdn.jsdelivr.net/npm//vega@5?noext\",\n",
       "      \"vega-lib\": \"https://cdn.jsdelivr.net/npm//vega-lib?noext\",\n",
       "      \"vega-lite\": \"https://cdn.jsdelivr.net/npm//vega-lite@4.17.0?noext\",\n",
       "      \"vega-embed\": \"https://cdn.jsdelivr.net/npm//vega-embed@6?noext\",\n",
       "    };\n",
       "\n",
       "    function maybeLoadScript(lib, version) {\n",
       "      var key = `${lib.replace(\"-\", \"\")}_version`;\n",
       "      return (VEGA_DEBUG[key] == version) ?\n",
       "        Promise.resolve(paths[lib]) :\n",
       "        new Promise(function(resolve, reject) {\n",
       "          var s = document.createElement('script');\n",
       "          document.getElementsByTagName(\"head\")[0].appendChild(s);\n",
       "          s.async = true;\n",
       "          s.onload = () => {\n",
       "            VEGA_DEBUG[key] = version;\n",
       "            return resolve(paths[lib]);\n",
       "          };\n",
       "          s.onerror = () => reject(`Error loading script: ${paths[lib]}`);\n",
       "          s.src = paths[lib];\n",
       "        });\n",
       "    }\n",
       "\n",
       "    function showError(err) {\n",
       "      outputDiv.innerHTML = `<div class=\"error\" style=\"color:red;\">${err}</div>`;\n",
       "      throw err;\n",
       "    }\n",
       "\n",
       "    function displayChart(vegaEmbed) {\n",
       "      vegaEmbed(outputDiv, spec, embedOpt)\n",
       "        .catch(err => showError(`Javascript Error: ${err.message}<br>This usually means there's a typo in your chart specification. See the javascript console for the full traceback.`));\n",
       "    }\n",
       "\n",
       "    if(typeof define === \"function\" && define.amd) {\n",
       "      requirejs.config({paths});\n",
       "      require([\"vega-embed\"], displayChart, err => showError(`Error loading script: ${err.message}`));\n",
       "    } else {\n",
       "      maybeLoadScript(\"vega\", \"5\")\n",
       "        .then(() => maybeLoadScript(\"vega-lite\", \"4.17.0\"))\n",
       "        .then(() => maybeLoadScript(\"vega-embed\", \"6\"))\n",
       "        .catch(showError)\n",
       "        .then(() => displayChart(vegaEmbed));\n",
       "    }\n",
       "  })({\"config\": {\"view\": {\"continuousWidth\": 400, \"continuousHeight\": 300}}, \"data\": {\"name\": \"data-8f963b99a25f035517843d4d31ddc9d3\"}, \"mark\": {\"type\": \"point\", \"filled\": true}, \"encoding\": {\"color\": {\"field\": \"Reorder algorithm\", \"type\": \"nominal\"}, \"shape\": {\"field\": \"Dataset\", \"type\": \"nominal\"}, \"x\": {\"field\": \"Graph algorithm runtime\", \"scale\": {\"type\": \"log\"}, \"type\": \"quantitative\"}, \"y\": {\"field\": \"Reorder time\", \"scale\": {\"type\": \"log\"}, \"type\": \"quantitative\"}}, \"title\": \"SpMV\", \"$schema\": \"https://vega.github.io/schema/vega-lite/v4.17.0.json\", \"datasets\": {\"data-8f963b99a25f035517843d4d31ddc9d3\": [{\"Dataset\": \"rgg_n_2_24_s0\", \"Reorder algorithm\": \"rand\", \"graph_algorithm\": \"spmv\", \"Graph algorithm runtime\": 20.36618242263794, \"Reorder time\": 0.1}, {\"Dataset\": \"rgg_n_2_23_s0\", \"Reorder algorithm\": \"Gorder\", \"graph_algorithm\": \"spmv\", \"Graph algorithm runtime\": 4.408627223968506, \"Reorder time\": 14233.0}, {\"Dataset\": \"soc-LiveJournal1\", \"Reorder algorithm\": \"rand\", \"graph_algorithm\": \"spmv\", \"Graph algorithm runtime\": 4.332441616058349, \"Reorder time\": 0.1}, {\"Dataset\": \"delaunay_n24\", \"Reorder algorithm\": \"Gorder\", \"graph_algorithm\": \"spmv\", \"Graph algorithm runtime\": 3.6572160601615904, \"Reorder time\": 13619.0}, {\"Dataset\": \"rgg_n_2_22_s0\", \"Reorder algorithm\": \"hub\", \"graph_algorithm\": \"spmv\", \"Graph algorithm runtime\": 3.3650176405906675, \"Reorder time\": 1791.0}, {\"Dataset\": \"delaunay_n24\", \"Reorder algorithm\": \"deg\", \"graph_algorithm\": \"spmv\", \"Graph algorithm runtime\": 8.341657686233521, \"Reorder time\": 5328.0}, {\"Dataset\": \"delaunay_n23\", \"Reorder algorithm\": \"hub\", \"graph_algorithm\": \"spmv\", \"Graph algorithm runtime\": 2.6587135672569273, \"Reorder time\": 2355.0}, {\"Dataset\": \"rgg_n_2_24_s0\", \"Reorder algorithm\": \"Gorder\", \"graph_algorithm\": \"spmv\", \"Graph algorithm runtime\": 9.910732793807984, \"Reorder time\": 29622.0}, {\"Dataset\": \"coAuthorsCiteseer\", \"Reorder algorithm\": \"hub\", \"graph_algorithm\": \"spmv\", \"Graph algorithm runtime\": 0.2692608036100864, \"Reorder time\": 32.0}, {\"Dataset\": \"coAuthorsDBLP\", \"Reorder algorithm\": \"Gorder\", \"graph_algorithm\": \"spmv\", \"Graph algorithm runtime\": 0.42219519764184954, \"Reorder time\": 360.0}, {\"Dataset\": \"delaunay_n23\", \"Reorder algorithm\": \"hub\", \"graph_algorithm\": \"spmv\", \"Graph algorithm runtime\": 2.593279981613159, \"Reorder time\": 2355.0}, {\"Dataset\": \"coAuthorsDBLP\", \"Reorder algorithm\": \"rand\", \"graph_algorithm\": \"spmv\", \"Graph algorithm runtime\": 0.2676224060356617, \"Reorder time\": 0.1}, {\"Dataset\": \"rgg_n_2_23_s0\", \"Reorder algorithm\": \"BOBA\", \"graph_algorithm\": \"spmv\", \"Graph algorithm runtime\": 4.957542419433594, \"Reorder time\": 46.0}, {\"Dataset\": \"rgg_n_2_23_s0\", \"Reorder algorithm\": \"rand\", \"graph_algorithm\": \"spmv\", \"Graph algorithm runtime\": 7.394764852523804, \"Reorder time\": 0.1}, {\"Dataset\": \"delaunay_n23\", \"Reorder algorithm\": \"deg\", \"graph_algorithm\": \"spmv\", \"Graph algorithm runtime\": 2.5699328422546386, \"Reorder time\": 2214.0}, {\"Dataset\": \"rgg_n_2_24_s0\", \"Reorder algorithm\": \"RCM\", \"graph_algorithm\": \"spmv\", \"Graph algorithm runtime\": 9.907455921173096, \"Reorder time\": 28756.0}, {\"Dataset\": \"rgg_n_2_22_s0\", \"Reorder algorithm\": \"rand\", \"graph_algorithm\": \"spmv\", \"Graph algorithm runtime\": 3.3513984203338625, \"Reorder time\": 0.1}, {\"Dataset\": \"arabic-2005\", \"Reorder algorithm\": \"RCM\", \"graph_algorithm\": \"spmv\", \"Graph algorithm runtime\": 31.898163032531738, \"Reorder time\": 93592.0}, {\"Dataset\": \"delaunay_n24\", \"Reorder algorithm\": \"hub\", \"graph_algorithm\": \"spmv\", \"Graph algorithm runtime\": 8.419225597381592, \"Reorder time\": 5450.0}, {\"Dataset\": \"rgg_n_2_22_s0\", \"Reorder algorithm\": \"deg\", \"graph_algorithm\": \"spmv\", \"Graph algorithm runtime\": 3.315251183509827, \"Reorder time\": 1752.0}, {\"Dataset\": \"soc-LiveJournal1\", \"Reorder algorithm\": \"RCM\", \"graph_algorithm\": \"spmv\", \"Graph algorithm runtime\": 4.444313621520996, \"Reorder time\": 8101.0}, {\"Dataset\": \"delaunay_n24\", \"Reorder algorithm\": \"hub\", \"graph_algorithm\": \"spmv\", \"Graph algorithm runtime\": 8.360959911346436, \"Reorder time\": 5450.0}, {\"Dataset\": \"great-britain_osm\", \"Reorder algorithm\": \"BOBA\", \"graph_algorithm\": \"spmv\", \"Graph algorithm runtime\": 0.7825919926166535, \"Reorder time\": 22.0}, {\"Dataset\": \"arabic-2005\", \"Reorder algorithm\": \"BOBA\", \"graph_algorithm\": \"spmv\", \"Graph algorithm runtime\": 32.42746868133545, \"Reorder time\": 224.0}, {\"Dataset\": \"rgg_n_2_22_s0\", \"Reorder algorithm\": \"BOBA\", \"graph_algorithm\": \"spmv\", \"Graph algorithm runtime\": 2.4847872138023375, \"Reorder time\": 17.0}, {\"Dataset\": \"road_usa\", \"Reorder algorithm\": \"Gorder\", \"graph_algorithm\": \"spmv\", \"Graph algorithm runtime\": 2.7720192432403565, \"Reorder time\": 9524.0}, {\"Dataset\": \"delaunay_n24\", \"Reorder algorithm\": \"RCM\", \"graph_algorithm\": \"spmv\", \"Graph algorithm runtime\": 3.60294394493103, \"Reorder time\": 14302.0}, {\"Dataset\": \"rgg_n_2_24_s0\", \"Reorder algorithm\": \"deg\", \"graph_algorithm\": \"spmv\", \"Graph algorithm runtime\": 18.241484928131104, \"Reorder time\": 4375.0}, {\"Dataset\": \"ljournal-2008\", \"Reorder algorithm\": \"rand\", \"graph_algorithm\": \"spmv\", \"Graph algorithm runtime\": 4.958515238761902, \"Reorder time\": 0.1}, {\"Dataset\": \"ljournal-2008\", \"Reorder algorithm\": \"deg\", \"graph_algorithm\": \"spmv\", \"Graph algorithm runtime\": 4.958566403388977, \"Reorder time\": 2543.0}, {\"Dataset\": \"arabic-2005\", \"Reorder algorithm\": \"deg\", \"graph_algorithm\": \"spmv\", \"Graph algorithm runtime\": 35.76709156036377, \"Reorder time\": 5703.0}, {\"Dataset\": \"road_usa\", \"Reorder algorithm\": \"hub\", \"graph_algorithm\": \"spmv\", \"Graph algorithm runtime\": 5.695180821418762, \"Reorder time\": 5092.0}, {\"Dataset\": \"coAuthorsDBLP\", \"Reorder algorithm\": \"BOBA\", \"graph_algorithm\": \"spmv\", \"Graph algorithm runtime\": 0.345446403324604, \"Reorder time\": 2.0}, {\"Dataset\": \"delaunay_n24\", \"Reorder algorithm\": \"BOBA\", \"graph_algorithm\": \"spmv\", \"Graph algorithm runtime\": 3.67385596036911, \"Reorder time\": 73.0}, {\"Dataset\": \"ljournal-2008\", \"Reorder algorithm\": \"RCM\", \"graph_algorithm\": \"spmv\", \"Graph algorithm runtime\": 5.070028781890869, \"Reorder time\": 10618.0}, {\"Dataset\": \"ljournal-2008\", \"Reorder algorithm\": \"Gorder\", \"graph_algorithm\": \"spmv\", \"Graph algorithm runtime\": 4.53340163230896, \"Reorder time\": 79833.0}, {\"Dataset\": \"delaunay_n23\", \"Reorder algorithm\": \"RCM\", \"graph_algorithm\": \"spmv\", \"Graph algorithm runtime\": 1.4924800097942352, \"Reorder time\": 6624.0}, {\"Dataset\": \"ljournal-2008\", \"Reorder algorithm\": \"hub\", \"graph_algorithm\": \"spmv\", \"Graph algorithm runtime\": 7.619686436653137, \"Reorder time\": 2550.0}, {\"Dataset\": \"arabic-2005\", \"Reorder algorithm\": \"hub\", \"graph_algorithm\": \"spmv\", \"Graph algorithm runtime\": 40.81367073059082, \"Reorder time\": 3491.0}, {\"Dataset\": \"ljournal-2008\", \"Reorder algorithm\": \"BOBA\", \"graph_algorithm\": \"spmv\", \"Graph algorithm runtime\": 5.337702465057373, \"Reorder time\": 31.0}, {\"Dataset\": \"rgg_n_2_24_s0\", \"Reorder algorithm\": \"hub\", \"graph_algorithm\": \"spmv\", \"Graph algorithm runtime\": 18.777395057678223, \"Reorder time\": 129208.0}, {\"Dataset\": \"soc-LiveJournal1\", \"Reorder algorithm\": \"BOBA\", \"graph_algorithm\": \"spmv\", \"Graph algorithm runtime\": 4.380825567245483, \"Reorder time\": 35.0}, {\"Dataset\": \"arabic-2005\", \"Reorder algorithm\": \"rand\", \"graph_algorithm\": \"spmv\", \"Graph algorithm runtime\": 51.451904106140134, \"Reorder time\": 0.1}, {\"Dataset\": \"great-britain_osm\", \"Reorder algorithm\": \"rand\", \"graph_algorithm\": \"spmv\", \"Graph algorithm runtime\": 1.0774015963077546, \"Reorder time\": 0.1}, {\"Dataset\": \"coAuthorsCiteseer\", \"Reorder algorithm\": \"Gorder\", \"graph_algorithm\": \"spmv\", \"Graph algorithm runtime\": 0.3910144045948982, \"Reorder time\": 207.0}, {\"Dataset\": \"rgg_n_2_24_s0\", \"Reorder algorithm\": \"hub\", \"graph_algorithm\": \"spmv\", \"Graph algorithm runtime\": 19.376179218292236, \"Reorder time\": 129208.0}, {\"Dataset\": \"soc-LiveJournal1\", \"Reorder algorithm\": \"hub\", \"graph_algorithm\": \"spmv\", \"Graph algorithm runtime\": 4.14044156074524, \"Reorder time\": 2179.0}, {\"Dataset\": \"road_usa\", \"Reorder algorithm\": \"deg\", \"graph_algorithm\": \"spmv\", \"Graph algorithm runtime\": 5.54531843662262, \"Reorder time\": 4973.0}, {\"Dataset\": \"soc-LiveJournal1\", \"Reorder algorithm\": \"hub\", \"graph_algorithm\": \"spmv\", \"Graph algorithm runtime\": 7.063347172737122, \"Reorder time\": 2179.0}, {\"Dataset\": \"coAuthorsCiteseer\", \"Reorder algorithm\": \"hub\", \"graph_algorithm\": \"spmv\", \"Graph algorithm runtime\": 0.5978624030947686, \"Reorder time\": 32.0}, {\"Dataset\": \"rgg_n_2_24_s0\", \"Reorder algorithm\": \"BOBA\", \"graph_algorithm\": \"spmv\", \"Graph algorithm runtime\": 11.059455966949463, \"Reorder time\": 109.0}, {\"Dataset\": \"delaunay_n23\", \"Reorder algorithm\": \"rand\", \"graph_algorithm\": \"spmv\", \"Graph algorithm runtime\": 2.721228814125061, \"Reorder time\": 0.1}, {\"Dataset\": \"coAuthorsCiteseer\", \"Reorder algorithm\": \"rand\", \"graph_algorithm\": \"spmv\", \"Graph algorithm runtime\": 0.2510335989296436, \"Reorder time\": 0.1}, {\"Dataset\": \"coAuthorsDBLP\", \"Reorder algorithm\": \"hub\", \"graph_algorithm\": \"spmv\", \"Graph algorithm runtime\": 0.273715204000473, \"Reorder time\": 40.0}, {\"Dataset\": \"rgg_n_2_23_s0\", \"Reorder algorithm\": \"hub\", \"graph_algorithm\": \"spmv\", \"Graph algorithm runtime\": 7.134259223937988, \"Reorder time\": 4368.0}, {\"Dataset\": \"coAuthorsCiteseer\", \"Reorder algorithm\": \"BOBA\", \"graph_algorithm\": \"spmv\", \"Graph algorithm runtime\": 0.3341824047267437, \"Reorder time\": 1.0}, {\"Dataset\": \"coAuthorsDBLP\", \"Reorder algorithm\": \"RCM\", \"graph_algorithm\": \"spmv\", \"Graph algorithm runtime\": 0.3881983980536461, \"Reorder time\": 115.0}, {\"Dataset\": \"delaunay_n23\", \"Reorder algorithm\": \"Gorder\", \"graph_algorithm\": \"spmv\", \"Graph algorithm runtime\": 1.5148544192314148, \"Reorder time\": 6742.0}, {\"Dataset\": \"delaunay_n24\", \"Reorder algorithm\": \"rand\", \"graph_algorithm\": \"spmv\", \"Graph algorithm runtime\": 8.489472007751464, \"Reorder time\": 0.1}, {\"Dataset\": \"rgg_n_2_22_s0\", \"Reorder algorithm\": \"hub\", \"graph_algorithm\": \"spmv\", \"Graph algorithm runtime\": 3.336038362979889, \"Reorder time\": 1791.0}, {\"Dataset\": \"road_usa\", \"Reorder algorithm\": \"RCM\", \"graph_algorithm\": \"spmv\", \"Graph algorithm runtime\": 2.7272191882133483, \"Reorder time\": 14730.0}, {\"Dataset\": \"coAuthorsCiteseer\", \"Reorder algorithm\": \"deg\", \"graph_algorithm\": \"spmv\", \"Graph algorithm runtime\": 0.5983743965625763, \"Reorder time\": 31.0}, {\"Dataset\": \"road_usa\", \"Reorder algorithm\": \"hub\", \"graph_algorithm\": \"spmv\", \"Graph algorithm runtime\": 5.611417675018311, \"Reorder time\": 5092.0}, {\"Dataset\": \"soc-LiveJournal1\", \"Reorder algorithm\": \"deg\", \"graph_algorithm\": \"spmv\", \"Graph algorithm runtime\": 4.4327935695648195, \"Reorder time\": 2263.0}, {\"Dataset\": \"coAuthorsCiteseer\", \"Reorder algorithm\": \"RCM\", \"graph_algorithm\": \"spmv\", \"Graph algorithm runtime\": 0.26690560281276704, \"Reorder time\": 67.0}, {\"Dataset\": \"great-britain_osm\", \"Reorder algorithm\": \"Gorder\", \"graph_algorithm\": \"spmv\", \"Graph algorithm runtime\": 0.7787007987499237, \"Reorder time\": 2835.0}, {\"Dataset\": \"rgg_n_2_22_s0\", \"Reorder algorithm\": \"RCM\", \"graph_algorithm\": \"spmv\", \"Graph algorithm runtime\": 2.251366400718689, \"Reorder time\": 5296.0}, {\"Dataset\": \"road_usa\", \"Reorder algorithm\": \"BOBA\", \"graph_algorithm\": \"spmv\", \"Graph algorithm runtime\": 2.7780096173286437, \"Reorder time\": 91.0}, {\"Dataset\": \"rgg_n_2_23_s0\", \"Reorder algorithm\": \"hub\", \"graph_algorithm\": \"spmv\", \"Graph algorithm runtime\": 7.080755186080933, \"Reorder time\": 4368.0}, {\"Dataset\": \"ljournal-2008\", \"Reorder algorithm\": \"hub\", \"graph_algorithm\": \"spmv\", \"Graph algorithm runtime\": 4.70118396282196, \"Reorder time\": 2550.0}, {\"Dataset\": \"great-britain_osm\", \"Reorder algorithm\": \"hub\", \"graph_algorithm\": \"spmv\", \"Graph algorithm runtime\": 1.0401280015707015, \"Reorder time\": 1302.0}, {\"Dataset\": \"road_usa\", \"Reorder algorithm\": \"rand\", \"graph_algorithm\": \"spmv\", \"Graph algorithm runtime\": 5.817241597175598, \"Reorder time\": 0.1}, {\"Dataset\": \"great-britain_osm\", \"Reorder algorithm\": \"RCM\", \"graph_algorithm\": \"spmv\", \"Graph algorithm runtime\": 0.7707136034965515, \"Reorder time\": 4283.0}, {\"Dataset\": \"coAuthorsDBLP\", \"Reorder algorithm\": \"deg\", \"graph_algorithm\": \"spmv\", \"Graph algorithm runtime\": 0.633190393447876, \"Reorder time\": 40.0}, {\"Dataset\": \"delaunay_n23\", \"Reorder algorithm\": \"BOBA\", \"graph_algorithm\": \"spmv\", \"Graph algorithm runtime\": 1.5249919831752776, \"Reorder time\": 33.0}, {\"Dataset\": \"rgg_n_2_22_s0\", \"Reorder algorithm\": \"Gorder\", \"graph_algorithm\": \"spmv\", \"Graph algorithm runtime\": 2.252236783504486, \"Reorder time\": 6700.0}, {\"Dataset\": \"rgg_n_2_23_s0\", \"Reorder algorithm\": \"RCM\", \"graph_algorithm\": \"spmv\", \"Graph algorithm runtime\": 4.4082176208496096, \"Reorder time\": 12278.0}, {\"Dataset\": \"coAuthorsDBLP\", \"Reorder algorithm\": \"hub\", \"graph_algorithm\": \"spmv\", \"Graph algorithm runtime\": 0.6353920102119446, \"Reorder time\": 40.0}, {\"Dataset\": \"rgg_n_2_23_s0\", \"Reorder algorithm\": \"deg\", \"graph_algorithm\": \"spmv\", \"Graph algorithm runtime\": 6.91962878704071, \"Reorder time\": 4375.0}, {\"Dataset\": \"arabic-2005\", \"Reorder algorithm\": \"Gorder\", \"graph_algorithm\": \"spmv\", \"Graph algorithm runtime\": 32.446105766296384, \"Reorder time\": 76993.0}, {\"Dataset\": \"great-britain_osm\", \"Reorder algorithm\": \"deg\", \"graph_algorithm\": \"spmv\", \"Graph algorithm runtime\": 1.0153471857309342, \"Reorder time\": 1250.0}, {\"Dataset\": \"arabic-2005\", \"Reorder algorithm\": \"hub\", \"graph_algorithm\": \"spmv\", \"Graph algorithm runtime\": 44.79784984588623, \"Reorder time\": 3491.0}, {\"Dataset\": \"great-britain_osm\", \"Reorder algorithm\": \"hub\", \"graph_algorithm\": \"spmv\", \"Graph algorithm runtime\": 1.046630397439003, \"Reorder time\": 1302.0}, {\"Dataset\": \"soc-LiveJournal1\", \"Reorder algorithm\": \"Gorder\", \"graph_algorithm\": \"spmv\", \"Graph algorithm runtime\": 3.9849471926689146, \"Reorder time\": 67111.0}]}}, {\"mode\": \"vega-lite\"});\n",
       "</script>"
      ],
      "text/plain": [
       "alt.Chart(...)"
      ]
     },
     "execution_count": 17,
     "metadata": {},
     "output_type": "execute_result"
    }
   ],
   "source": [
    "make_pareto('SpMV')"
   ]
  },
  {
   "cell_type": "code",
   "execution_count": null,
   "metadata": {},
   "outputs": [],
   "source": []
  }
 ],
 "metadata": {
  "interpreter": {
   "hash": "1eabe6508241140e08d28e2ec2b99214c46be7012b1732a625582fafe91b8865"
  },
  "kernelspec": {
   "display_name": "Python 3.9.7 ('cmake-env')",
   "language": "python",
   "name": "python3"
  },
  "language_info": {
   "codemirror_mode": {
    "name": "ipython",
    "version": 3
   },
   "file_extension": ".py",
   "mimetype": "text/x-python",
   "name": "python",
   "nbconvert_exporter": "python",
   "pygments_lexer": "ipython3",
   "version": "3.9.7"
  },
  "orig_nbformat": 4
 },
 "nbformat": 4,
 "nbformat_minor": 2
}
